{
 "cells": [
  {
   "cell_type": "markdown",
   "metadata": {},
   "source": [
    "# Jupyter Notebook Beispiel\n",
    "Dieses Notebook ist ein Beispiel, was man mit Jupyter so alles anstellen kann.\n",
    "Diese Zelle ist eine Markdown Zelle. Das heisst sie beinhaltet Text, welcher in\n",
    "*.md*, also Markdown geschrieben wurde.\n",
    "\n",
    "Damit lassen sich innerhalb eines Notebook sehr gut grössere Texte darstellen.\n",
    "\n",
    "Eine Zelle kann entweder .md Text enthalten oder Code (siehe unten)"
   ]
  },
  {
   "cell_type": "code",
   "execution_count": 1,
   "metadata": {},
   "outputs": [],
   "source": [
    "# Diese Zelle beinhaltet die Definition einer Methode.\n",
    "# Variablen und Methoden, welche in einem einer Zelle geschrieben wurden\n",
    "# lassen sich aus dem ganzen Notebook aufrufen.\n",
    "def flat_joke():\n",
    "    return \"Treffen sich zwei Jäger - Beide tot :) :) :)\""
   ]
  },
  {
   "cell_type": "code",
   "execution_count": 2,
   "metadata": {},
   "outputs": [
    {
     "data": {
      "text/plain": [
       "'Treffen sich zwei Jäger - Beide tot :) :) :)'"
      ]
     },
     "execution_count": 2,
     "metadata": {},
     "output_type": "execute_result"
    }
   ],
   "source": [
    "flat_joke()"
   ]
  },
  {
   "cell_type": "markdown",
   "metadata": {},
   "source": [
    "Code Zellen lassen sich durch den Prefix linke erkennen:\n",
    "\n",
    "In [4] --> Code Zelle <br/>\n",
    "Out [4] --> Output der Zelle, falls irgendwas zurückgegeben wird / print() aufgerufen wird.\n",
    "\n",
    "Der Code der Zellen wird immer in einem Kernel durchgeführt. Es gibt für X-Beliebig viele Programmiersprachen, darunter z.B. Python, C++, R, Julia usw. \n",
    "\n",
    "Die Zahl in den []-Klammern steht für die Reihenfolge, in welcher der Code ausgeführt wird. Achte also darauf, dass du immer zuerst die Zellen ausführen, welche Variablen / Methoden deklarieren und dann die Zellen, welche diese weiterverwenden. Ansonsten wird das Programm Fehler schmeissen.\n",
    "\n",
    "Durch diesen Kernel werden auch die Variablen Zellenübergreifend zur Verfügung gestellt, denn die Zuweisungen werden im Kernel drin gespeichert.\n",
    "\n",
    "Wenn man einen Kernel neustartet, werden alle Zuweisungen, Definitionen usw. gelöscht."
   ]
  },
  {
   "cell_type": "code",
   "execution_count": 3,
   "metadata": {},
   "outputs": [
    {
     "ename": "NameError",
     "evalue": "name 'name' is not defined",
     "output_type": "error",
     "traceback": [
      "\u001b[1;31m---------------------------------------------------------------------------\u001b[0m",
      "\u001b[1;31mNameError\u001b[0m                                 Traceback (most recent call last)",
      "\u001b[1;32m<ipython-input-3-a27268687dd2>\u001b[0m in \u001b[0;36m<module>\u001b[1;34m\u001b[0m\n\u001b[1;32m----> 1\u001b[1;33m \u001b[0mprint\u001b[0m\u001b[1;33m(\u001b[0m\u001b[1;34m\"Ciao \"\u001b[0m \u001b[1;33m+\u001b[0m \u001b[0mname\u001b[0m\u001b[1;33m)\u001b[0m\u001b[1;33m\u001b[0m\u001b[1;33m\u001b[0m\u001b[0m\n\u001b[0m",
      "\u001b[1;31mNameError\u001b[0m: name 'name' is not defined"
     ]
    }
   ],
   "source": [
    "print(\"Ciao \" + name)"
   ]
  },
  {
   "cell_type": "code",
   "execution_count": null,
   "metadata": {},
   "outputs": [],
   "source": [
    "name = \"Fritz\""
   ]
  },
  {
   "cell_type": "markdown",
   "metadata": {},
   "source": [
    "Wenn in einer Zelle ein Fehler passiert, wird der Fehler schön ausgeben und man kann diesen gut interpretieren."
   ]
  },
  {
   "cell_type": "markdown",
   "metadata": {},
   "source": [
    "## Formulare\n",
    "Jupyter unterstützt auch Formulare, so kann man unzählige Python Libraries importieren und diese dann verwenden."
   ]
  },
  {
   "cell_type": "code",
   "execution_count": 4,
   "metadata": {},
   "outputs": [],
   "source": [
    "# Auch Imports sind in allen Zellen verfügbar, welche nach dem Ausführen der Zelle mit dem Import ausgeführt werden.\n",
    "import ipywidgets as widgets"
   ]
  },
  {
   "cell_type": "code",
   "execution_count": 5,
   "metadata": {},
   "outputs": [
    {
     "data": {
      "application/vnd.jupyter.widget-view+json": {
       "model_id": "ca48d1975f9147c99e0df9b8ae3e015b",
       "version_major": 2,
       "version_minor": 0
      },
      "text/plain": [
       "IntSlider(value=7, continuous_update=False, description='Test:', max=10)"
      ]
     },
     "metadata": {},
     "output_type": "display_data"
    }
   ],
   "source": [
    "slider = widgets.IntSlider(\n",
    "    value=7,\n",
    "    min=0,\n",
    "    max=10,\n",
    "    step=1,\n",
    "    description='Test:',\n",
    "    disabled=False,\n",
    "    continuous_update=False,\n",
    "    orientation='horizontal',\n",
    "    readout=True,\n",
    "    readout_format='d'\n",
    ")\n",
    "\n",
    "display(slider)"
   ]
  },
  {
   "cell_type": "markdown",
   "metadata": {},
   "source": [
    "## Voila!\n",
    "Voila ist ein Tool, mit welchem man Jupyter Notebooks zu Webapps kompilieren kann. Durch Voila entsteht ein Dokument, welches nur noch die Outputs anzeigt und nicht mehr den Code. Das ist praktisch, wenn man seine Berechnungen der breiten Masse visualisieren will, jedoch dabei nicht sicher ist, ob jeder die Zellen mit dem Code verstehen wird.\n",
    "\n",
    "## Github\n",
    "Github unterstützt .ipynb Dokumente. Wenn man ein Jupyter Notebook auf Github hochlädt, wird dieses automatisch korrekt mit den Zellen usw. dargestellt.\n",
    "\n",
    "Hier eine Beispiel, in welchem die NASA ein Jupyter Notebook geshrieben, welches einen Bildkoordinaten Erkennungs Algorithmus erläutert / aufzeigt:\n",
    "\n",
    "https://github.com/nasa/ISS_Camera_Geolocate/blob/master/notebooks/ISS_Camera_Geolocate_example.ipynb\n",
    "\n",
    "## PDF...\n",
    "Eine Jupyter Notebook lässt sich auch als PDF, HTML, Powerpoint Slider usw. exportieren. Dabei ist jedoch Vorsicht geboten, denn z.B. Formulare / Inputs könnnten nicht funktionieren!\n",
    "\n",
    "## IDE / JSON\n",
    "Dieses Notebook wurde in der Jupyter Notebook Web-Entwicklungsumgebung geschrieben. Die IDE ist hübsch simpel und bietet viele Vorteile gegenüber dem RAW-Schreiben. Ein Jupyter Notebook ist nämlich eigentlich nur ein JSON. Wer versuchen will, sein Notebook direkt als JSON zu schreiben, viel Spass. In der IDE werden die Zellen direkt hübsch dargestellt und es gibt viele praktische Shortcuts und Commands, welche das entwickeln deutlich beschleunigen.\n",
    "\n",
    "## Tutorial\n",
    "Hat jemand Interesse an Jupyter gefunden, hier noch ein gutes Tutorial, welches mir sehr geholfen hat:\n",
    "http://dataquest.io/blog/jupyter-notebook-tutorial/"
   ]
  }
 ],
 "metadata": {
  "kernelspec": {
   "display_name": "Python 3",
   "language": "python",
   "name": "python3"
  },
  "language_info": {
   "codemirror_mode": {
    "name": "ipython",
    "version": 3
   },
   "file_extension": ".py",
   "mimetype": "text/x-python",
   "name": "python",
   "nbconvert_exporter": "python",
   "pygments_lexer": "ipython3",
   "version": "3.7.6"
  }
 },
 "nbformat": 4,
 "nbformat_minor": 4
}